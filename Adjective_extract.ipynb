{
  "nbformat": 4,
  "nbformat_minor": 0,
  "metadata": {
    "colab": {
      "name": "Adjective_extract.ipynb",
      "provenance": [],
      "machine_shape": "hm"
    },
    "kernelspec": {
      "name": "python3",
      "display_name": "Python 3"
    },
    "language_info": {
      "name": "python"
    }
  },
  "cells": [
    {
      "cell_type": "code",
      "metadata": {
        "id": "-cOHBqgYW7nK",
        "colab": {
          "base_uri": "https://localhost:8080/"
        },
        "outputId": "fbb67d71-5884-43b3-92b2-5665af3b904f"
      },
      "source": [
        "import pandas as pd\n",
        "import json\n",
        "import numpy as np\n",
        "import random\n",
        "import nltk\n",
        "import math\n",
        "import spacy\n",
        "import re\n",
        "nlp = spacy.load(\"en_core_web_sm\")\n",
        "nltk.download('punkt')\n",
        "nltk.download('averaged_perceptron_tagger')\n",
        "pd.set_option('display.max_rows', None)"
      ],
      "execution_count": 1,
      "outputs": [
        {
          "output_type": "stream",
          "name": "stdout",
          "text": [
            "[nltk_data] Downloading package punkt to /root/nltk_data...\n",
            "[nltk_data]   Unzipping tokenizers/punkt.zip.\n",
            "[nltk_data] Downloading package averaged_perceptron_tagger to\n",
            "[nltk_data]     /root/nltk_data...\n",
            "[nltk_data]   Unzipping taggers/averaged_perceptron_tagger.zip.\n"
          ]
        }
      ]
    },
    {
      "cell_type": "code",
      "metadata": {
        "colab": {
          "base_uri": "https://localhost:8080/"
        },
        "id": "BBHPsQjiZiUH",
        "outputId": "a4147fce-165e-4373-f6a8-cdd833e78fbd"
      },
      "source": [
        "from google.colab import drive\n",
        "drive.mount('/content/drive')"
      ],
      "execution_count": 2,
      "outputs": [
        {
          "output_type": "stream",
          "name": "stdout",
          "text": [
            "Drive already mounted at /content/drive; to attempt to forcibly remount, call drive.mount(\"/content/drive\", force_remount=True).\n"
          ]
        }
      ]
    },
    {
      "cell_type": "code",
      "metadata": {
        "id": "2WhM_VHTXVfL"
      },
      "source": [
        "# load data \n",
        "data_file = open(\"/content/drive/MyDrive/yelp_academic_dataset_review.json\")\n",
        "data = []\n",
        "for line in data_file:\n",
        "  data.append(json.loads(line))\n",
        "df = pd.DataFrame(data)\n",
        "data_file.close()"
      ],
      "execution_count": 3,
      "outputs": []
    },
    {
      "cell_type": "code",
      "metadata": {
        "id": "XJFO5sgnXkGU",
        "colab": {
          "base_uri": "https://localhost:8080/"
        },
        "outputId": "694de514-a8d8-4340-ee3b-309735698a8a"
      },
      "source": [
        "# extract business_id\n",
        "series_id_total = df['business_id']\n",
        "series_id_once = series_id_total.drop_duplicates()\n",
        "\n",
        "# select a business b1 randomly\n",
        "r = random.randint(0, len(series_id_once)-1)\n",
        "b1 = df.loc[r, \"business_id\"]\n",
        "print(\"business id is \" + b1)\n",
        "df_b1_related = df[df['business_id'] == b1]\n",
        "reviews_selected = df_b1_related['text'].tolist()"
      ],
      "execution_count": 5,
      "outputs": [
        {
          "output_type": "stream",
          "name": "stdout",
          "text": [
            "business id is QxUVzln7g5ehHPtVy2hOng\n"
          ]
        }
      ]
    },
    {
      "cell_type": "code",
      "metadata": {
        "id": "pMqXixfWHFpC"
      },
      "source": [
        "def get_AP_from_tree(tree, tokens):\n",
        "  adj_phrase = []\n",
        "  st = 0\n",
        "  for subtree in tree:\n",
        "    if isinstance(subtree, nltk.tree.Tree):\n",
        "      if subtree.label() == 'AP':\n",
        "        ed = st + len(subtree.leaves())\n",
        "        if(ed-st > 1):        \n",
        "          for i in range(st,ed-1):\n",
        "            adj_phrase.append(tokens[i]+\" \"+tokens[i+1])\n",
        "        else:\n",
        "          adj_phrase.append(tokens[st])    \n",
        "      st += len(subtree.leaves())\n",
        "    else:\n",
        "      st += 1\n",
        "  return adj_phrase\n",
        "\n",
        "def extract_adj_phrase(review):\n",
        "  doc = nlp(review)\n",
        "  tagged = []\n",
        "  tokens = []\n",
        "  for token in doc:\n",
        "    if(token.text == '\\n'):\n",
        "      continue\n",
        "    _token = token.text.lower()\n",
        "    _tag = (_token, token.tag_)\n",
        "    tagged.append(_tag)\n",
        "    tokens.append(_token)\n",
        "\n",
        "  grammar = r\"\"\"\n",
        "    AP: {<RB><JJ|JJR|JJS><IN|TO><DT>?<NN|NNS|NNP|NNPS>}\n",
        "      {<JJ|JJR|JJS><IN|TO><DT>?<NN|NNS|NNP|NNPS>}\n",
        "      {<RB>?<JJ|JJR|JJS>}\n",
        "  \"\"\"\n",
        "  cp = nltk.RegexpParser(grammar)\n",
        "  tree = cp.parse(tagged)\n",
        "  return get_AP_from_tree(tree, tokens)"
      ],
      "execution_count": 6,
      "outputs": []
    },
    {
      "cell_type": "code",
      "metadata": {
        "colab": {
          "base_uri": "https://localhost:8080/"
        },
        "id": "-RRjAY9qs_Is",
        "outputId": "0e7be300-01fa-4692-ed42-f3a9438214fd"
      },
      "source": [
        "# extract adjective phrases form the reviews of business b1\n",
        "adj_phrases = []\n",
        "adj_selected = []\n",
        "for review in reviews_selected:\n",
        "  adj_phrases += extract_adj_phrase(review)\n",
        "\n",
        "_count = pd.value_counts(adj_phrases)\n",
        "adj_selected_count = _count[0:min(len(_count),50)]\n",
        "print(adj_selected_count)\n"
      ],
      "execution_count": 7,
      "outputs": [
        {
          "output_type": "stream",
          "name": "stdout",
          "text": [
            "good          75\n",
            "other         69\n",
            "great         44\n",
            "more          36\n",
            "personal      36\n",
            "nice          31\n",
            "free          31\n",
            "few           28\n",
            "new           27\n",
            "front         25\n",
            "old           24\n",
            "friendly      22\n",
            "hot           21\n",
            "better        21\n",
            "last          18\n",
            "high          18\n",
            "only          17\n",
            "clean         17\n",
            "many          15\n",
            "same          15\n",
            "several       15\n",
            "indoor        14\n",
            "first         14\n",
            "bad           13\n",
            "most          12\n",
            "little        12\n",
            "dirty         11\n",
            "favorite      11\n",
            "fine          11\n",
            "different     10\n",
            "disgusting    10\n",
            "real          10\n",
            "cheap         10\n",
            "worst         10\n",
            "hard           9\n",
            "open           9\n",
            "of the         9\n",
            "able           9\n",
            "sure           9\n",
            "not sure       9\n",
            "helpful        9\n",
            "own            8\n",
            "less           8\n",
            "long           8\n",
            "best           8\n",
            "squat          8\n",
            "amazing        8\n",
            "close          7\n",
            "negative       7\n",
            "enough         7\n",
            "dtype: int64\n"
          ]
        }
      ]
    },
    {
      "cell_type": "code",
      "metadata": {
        "id": "uuOkQP7y2lsv"
      },
      "source": [
        "adj_selected = adj_selected_count.index.tolist()\n",
        "adj_sampled_count = pd.Series([0]*len(adj_selected), index = adj_selected)\n",
        "adj_score = pd.Series([0.0]*len(adj_selected), index = adj_selected)\n"
      ],
      "execution_count": 8,
      "outputs": []
    },
    {
      "cell_type": "code",
      "metadata": {
        "id": "t3Dpn8FGm4iR",
        "colab": {
          "base_uri": "https://localhost:8080/"
        },
        "outputId": "7e842db0-99c3-4cb8-b067-8f79b3fb5b9d"
      },
      "source": [
        "# count the frequency of adjective phrase in sampled reviews \n",
        "sample_num = 20000\n",
        "\n",
        "reviews_total_series = df['text']\n",
        "reviews_sampled = reviews_total_series.sample(sample_num).tolist()\n",
        "\n",
        "adj_sampled = []\n",
        "for review in reviews_sampled:\n",
        "  _adj_phrases = extract_adj_phrase(review)\n",
        "  for phrase in _adj_phrases:\n",
        "    if phrase in adj_selected:\n",
        "      adj_sampled_count[phrase] += 1\n",
        "\n",
        "print(adj_sampled_count)"
      ],
      "execution_count": 9,
      "outputs": [
        {
          "output_type": "stream",
          "name": "stdout",
          "text": [
            "good          6140\n",
            "other         3613\n",
            "great         7759\n",
            "more          2112\n",
            "personal       224\n",
            "nice          2430\n",
            "free          1051\n",
            "few           1952\n",
            "new           1830\n",
            "front          397\n",
            "old            897\n",
            "friendly      1687\n",
            "hot           1099\n",
            "better        1157\n",
            "last          1373\n",
            "high           662\n",
            "only          1310\n",
            "clean          695\n",
            "many          1013\n",
            "same          1146\n",
            "several        731\n",
            "indoor          89\n",
            "first         2202\n",
            "bad            910\n",
            "most           756\n",
            "little        2683\n",
            "dirty          234\n",
            "favorite      1129\n",
            "fine           467\n",
            "different     1127\n",
            "disgusting      64\n",
            "real           505\n",
            "cheap          408\n",
            "worst          458\n",
            "hard           534\n",
            "open           557\n",
            "of the         409\n",
            "able           801\n",
            "sure          1179\n",
            "not sure       405\n",
            "helpful        486\n",
            "own            686\n",
            "less           454\n",
            "long           808\n",
            "best          2897\n",
            "squat            2\n",
            "amazing       2188\n",
            "close          169\n",
            "negative       162\n",
            "enough         462\n",
            "dtype: int64\n"
          ]
        }
      ]
    },
    {
      "cell_type": "code",
      "metadata": {
        "colab": {
          "base_uri": "https://localhost:8080/",
          "height": 233
        },
        "id": "57gzHaSYG9Yt",
        "outputId": "f78cb4c2-4178-48e8-e5fb-cfe81b3047ae"
      },
      "source": [
        "# calculate the scores of adjective phrases\n",
        "for index in adj_selected:\n",
        "  p_b1 = adj_selected_count[index] / float(len(reviews_selected))\n",
        "  p_C = adj_sampled_count[index] / float(sample_num)\n",
        "  if(p_C != 0):\n",
        "    adj_score[index] = p_b1 * math.log(p_b1/p_C) \n",
        "  else:\n",
        "    adj_score[index] = -100\n",
        "print(\"Indicative adjective phrases and their scores are as follows:\")\n",
        "display(adj_score.sort_values(ascending = False)[0:10])\n"
      ],
      "execution_count": 10,
      "outputs": [
        {
          "output_type": "stream",
          "name": "stdout",
          "text": [
            "Indicative adjective phrases and their scores are as follows:\n"
          ]
        },
        {
          "output_type": "display_data",
          "data": {
            "text/plain": [
              "personal      0.539736\n",
              "other         0.256853\n",
              "squat         0.256001\n",
              "front         0.250884\n",
              "indoor        0.208308\n",
              "free          0.186694\n",
              "disgusting    0.148436\n",
              "old           0.132157\n",
              "more          0.112356\n",
              "good          0.101845\n",
              "dtype: float64"
            ]
          },
          "metadata": {}
        }
      ]
    }
  ]
}